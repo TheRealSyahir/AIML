{
 "cells": [
  {
   "cell_type": "markdown",
   "id": "a04b1e22-e14a-4aee-8445-487a4ae32fae",
   "metadata": {},
   "source": [
    "# AIML PROJECT\n",
    "\n",
    "## Develop a multi linear regression model based on dataset to predict the insurance price.\n",
    "## Target data(Y) - charges(Decimal) \n",
    "## input data(X) - age(Integer), sex(String), bmi(Decimal), children(Integer), smoker(String)\n",
    "## Model can predict to accuracy >60%\n"
   ]
  },
  {
   "cell_type": "code",
   "execution_count": 1,
   "id": "b353c591-cf50-42fd-9d2e-0e1cbc3b956e",
   "metadata": {},
   "outputs": [],
   "source": [
    "#import required libraries\n",
    "import warnings\n",
    "warnings.simplefilter(action='ignore', category=FutureWarning)\n",
    "\n",
    "import numpy as np\n",
    "import tensorflow as tf\n",
    "import pandas as pd\n",
    "import pathlib\n",
    "import seaborn as sns\n",
    "import matplotlib.pyplot as plt\n",
    "from sklearn import preprocessing\n",
    "from tensorflow.keras.utils import to_categorical\n",
    "from sklearn.linear_model import LinearRegression\n",
    "from sklearn.metrics import mean_squared_error, r2_score\n"
   ]
  },
  {
   "cell_type": "code",
   "execution_count": 37,
   "id": "9ca54388-7598-44b5-9ea0-3f066a0a73e2",
   "metadata": {},
   "outputs": [
    {
     "name": "stdout",
     "output_type": "stream",
     "text": [
      "   age     sex     bmi  children smoker     region      charges\n",
      "0   19  female  27.900         0    yes  southwest  16884.92400\n",
      "1   18    male  33.770         1     no  southeast   1725.55230\n",
      "2   28    male  33.000         3     no  southeast   4449.46200\n",
      "3   33    male  22.705         0     no  northwest  21984.47061\n",
      "4   32    male  28.880         0     no  northwest   3866.85520\n",
      "5   31  female  25.740         0     no  southeast   3756.62160\n",
      "6   46  female  33.440         1     no  southeast   8240.58960\n",
      "7   37  female  27.740         3     no  northwest   7281.50560\n",
      "8   37    male  29.830         2     no  northeast   6406.41070\n",
      "9   60  female  25.840         0     no  northwest  28923.13692\n",
      "False\n",
      "age         0\n",
      "sex         0\n",
      "bmi         0\n",
      "children    0\n",
      "smoker      0\n",
      "region      0\n",
      "charges     0\n",
      "dtype: int64\n"
     ]
    }
   ],
   "source": [
    "#read the insurance dataset\n",
    "data = pd.read_csv('insurance.csv',header=0, skipinitialspace=True)\n",
    "\n",
    "print(data.head(10))\n",
    "\n",
    "#check for any missing values in dataset, there is none\n",
    "print(data.isnull().values.any())\n",
    "print(data.isnull().sum())"
   ]
  },
  {
   "cell_type": "code",
   "execution_count": 38,
   "id": "c55f329f-b5a9-4c9f-9b69-94caa195fcd4",
   "metadata": {},
   "outputs": [
    {
     "data": {
      "text/html": [
       "<div>\n",
       "<style scoped>\n",
       "    .dataframe tbody tr th:only-of-type {\n",
       "        vertical-align: middle;\n",
       "    }\n",
       "\n",
       "    .dataframe tbody tr th {\n",
       "        vertical-align: top;\n",
       "    }\n",
       "\n",
       "    .dataframe thead th {\n",
       "        text-align: right;\n",
       "    }\n",
       "</style>\n",
       "<table border=\"1\" class=\"dataframe\">\n",
       "  <thead>\n",
       "    <tr style=\"text-align: right;\">\n",
       "      <th></th>\n",
       "      <th>age</th>\n",
       "      <th>bmi</th>\n",
       "      <th>children</th>\n",
       "      <th>charges</th>\n",
       "    </tr>\n",
       "  </thead>\n",
       "  <tbody>\n",
       "    <tr>\n",
       "      <th>count</th>\n",
       "      <td>1338.000000</td>\n",
       "      <td>1338.000000</td>\n",
       "      <td>1338.000000</td>\n",
       "      <td>1338.000000</td>\n",
       "    </tr>\n",
       "    <tr>\n",
       "      <th>mean</th>\n",
       "      <td>39.207025</td>\n",
       "      <td>30.663397</td>\n",
       "      <td>1.094918</td>\n",
       "      <td>13270.422265</td>\n",
       "    </tr>\n",
       "    <tr>\n",
       "      <th>std</th>\n",
       "      <td>14.049960</td>\n",
       "      <td>6.098187</td>\n",
       "      <td>1.205493</td>\n",
       "      <td>12110.011237</td>\n",
       "    </tr>\n",
       "    <tr>\n",
       "      <th>min</th>\n",
       "      <td>18.000000</td>\n",
       "      <td>15.960000</td>\n",
       "      <td>0.000000</td>\n",
       "      <td>1121.873900</td>\n",
       "    </tr>\n",
       "    <tr>\n",
       "      <th>25%</th>\n",
       "      <td>27.000000</td>\n",
       "      <td>26.296250</td>\n",
       "      <td>0.000000</td>\n",
       "      <td>4740.287150</td>\n",
       "    </tr>\n",
       "    <tr>\n",
       "      <th>50%</th>\n",
       "      <td>39.000000</td>\n",
       "      <td>30.400000</td>\n",
       "      <td>1.000000</td>\n",
       "      <td>9382.033000</td>\n",
       "    </tr>\n",
       "    <tr>\n",
       "      <th>75%</th>\n",
       "      <td>51.000000</td>\n",
       "      <td>34.693750</td>\n",
       "      <td>2.000000</td>\n",
       "      <td>16639.912515</td>\n",
       "    </tr>\n",
       "    <tr>\n",
       "      <th>max</th>\n",
       "      <td>64.000000</td>\n",
       "      <td>53.130000</td>\n",
       "      <td>5.000000</td>\n",
       "      <td>63770.428010</td>\n",
       "    </tr>\n",
       "  </tbody>\n",
       "</table>\n",
       "</div>"
      ],
      "text/plain": [
       "               age          bmi     children       charges\n",
       "count  1338.000000  1338.000000  1338.000000   1338.000000\n",
       "mean     39.207025    30.663397     1.094918  13270.422265\n",
       "std      14.049960     6.098187     1.205493  12110.011237\n",
       "min      18.000000    15.960000     0.000000   1121.873900\n",
       "25%      27.000000    26.296250     0.000000   4740.287150\n",
       "50%      39.000000    30.400000     1.000000   9382.033000\n",
       "75%      51.000000    34.693750     2.000000  16639.912515\n",
       "max      64.000000    53.130000     5.000000  63770.428010"
      ]
     },
     "execution_count": 38,
     "metadata": {},
     "output_type": "execute_result"
    }
   ],
   "source": [
    "#describe data\n",
    "data.describe()"
   ]
  },
  {
   "cell_type": "code",
   "execution_count": 39,
   "id": "6d077dc4-e6b1-4f4b-9040-b8b02d72b29e",
   "metadata": {},
   "outputs": [
    {
     "data": {
      "image/png": "[encoded data removed]",
      "text/plain": [
       "<Figure size 640x480 with 2 Axes>"
      ]
     },
     "metadata": {},
     "output_type": "display_data"
    }
   ],
   "source": [
    "dataplot = sns.heatmap(data.corr(), cmap=\"YlGnBu\", annot=True)"
   ]
  },
  {
   "cell_type": "code",
   "execution_count": 40,
   "id": "fee045df-7c34-4793-8f95-07cd1859dc97",
   "metadata": {},
   "outputs": [
    {
     "name": "stdout",
     "output_type": "stream",
     "text": [
      "['female' 'male']\n",
      "['yes' 'no']\n",
      "['southwest' 'southeast' 'northwest' 'northeast']\n",
      "male      676\n",
      "female    662\n",
      "Name: sex, dtype: int64\n",
      "no     1064\n",
      "yes     274\n",
      "Name: smoker, dtype: int64\n",
      "southeast    364\n",
      "southwest    325\n",
      "northwest    325\n",
      "northeast    324\n",
      "Name: region, dtype: int64\n"
     ]
    }
   ],
   "source": [
    "#Checking for labels in categorical variables\n",
    "print(data['sex'].unique())\n",
    "print(data['smoker'].unique())\n",
    "print(data['region'].unique())\n",
    "\n",
    "#checking for label counts in categorical variables\n",
    "print(data['sex'].value_counts())\n",
    "print(data['smoker'].value_counts())\n",
    "print(data['region'].value_counts())"
   ]
  },
  {
   "cell_type": "code",
   "execution_count": 41,
   "id": "35d6dd4e-5546-4d11-8b3a-c981284f64e7",
   "metadata": {},
   "outputs": [
    {
     "name": "stdout",
     "output_type": "stream",
     "text": [
      "      age     bmi  children      charges  sex_female  sex_male  smoker_no  \\\n",
      "0      19  27.900         0  16884.92400           1         0          0   \n",
      "1      18  33.770         1   1725.55230           0         1          1   \n",
      "2      28  33.000         3   4449.46200           0         1          1   \n",
      "3      33  22.705         0  21984.47061           0         1          1   \n",
      "4      32  28.880         0   3866.85520           0         1          1   \n",
      "...   ...     ...       ...          ...         ...       ...        ...   \n",
      "1333   50  30.970         3  10600.54830           0         1          1   \n",
      "1334   18  31.920         0   2205.98080           1         0          1   \n",
      "1335   18  36.850         0   1629.83350           1         0          1   \n",
      "1336   21  25.800         0   2007.94500           1         0          1   \n",
      "1337   61  29.070         0  29141.36030           1         0          0   \n",
      "\n",
      "      smoker_yes  region_northeast  region_northwest  region_southeast  \\\n",
      "0              1                 0                 0                 0   \n",
      "1              0                 0                 0                 1   \n",
      "2              0                 0                 0                 1   \n",
      "3              0                 0                 1                 0   \n",
      "4              0                 0                 1                 0   \n",
      "...          ...               ...               ...               ...   \n",
      "1333           0                 0                 1                 0   \n",
      "1334           0                 1                 0                 0   \n",
      "1335           0                 0                 0                 1   \n",
      "1336           0                 0                 0                 0   \n",
      "1337           1                 0                 1                 0   \n",
      "\n",
      "      region_southwest  \n",
      "0                    1  \n",
      "1                    0  \n",
      "2                    0  \n",
      "3                    0  \n",
      "4                    0  \n",
      "...                ...  \n",
      "1333                 0  \n",
      "1334                 0  \n",
      "1335                 0  \n",
      "1336                 1  \n",
      "1337                 0  \n",
      "\n",
      "[1338 rows x 12 columns]\n"
     ]
    }
   ],
   "source": [
    "#One-hot encoding the categorical variables to binary data using get_dummies()\n",
    "df = pd.get_dummies(data, columns = ['sex','smoker','region'])\n",
    "print(df)\n",
    "\n",
    "#print(df.head(5))"
   ]
  },
  {
   "cell_type": "code",
   "execution_count": 42,
   "id": "cdeb1191-0658-404d-ab4b-6d5473d7eb90",
   "metadata": {},
   "outputs": [
    {
     "name": "stdout",
     "output_type": "stream",
     "text": [
      "(1338, 11)\n",
      "(1338,)\n"
     ]
    }
   ],
   "source": [
    "#select input data and target data\n",
    "X = df[['age', 'bmi', 'children', 'sex_female', 'sex_male', 'smoker_no', 'smoker_yes', 'region_northeast', 'region_northwest', 'region_southeast', 'region_southwest']]\n",
    "Y = df['charges']\n",
    "\n",
    "print(X.shape)\n",
    "print(Y.shape)"
   ]
  },
  {
   "cell_type": "code",
   "execution_count": 43,
   "id": "46062b36-bec7-41e8-9f4b-1b2ce6da8f24",
   "metadata": {},
   "outputs": [
    {
     "name": "stdout",
     "output_type": "stream",
     "text": [
      "(1070, 11)\n",
      "(268, 11)\n",
      "(1070,)\n",
      "(268,)\n"
     ]
    }
   ],
   "source": [
    "#split data into train and test sets\n",
    "from sklearn.model_selection import train_test_split\n",
    "X_train, X_test, Y_train, Y_test = train_test_split(X,Y, test_size=0.2, random_state=30)\n",
    "print(X_train.shape)\n",
    "print(X_test.shape)\n",
    "print(Y_train.shape)\n",
    "print(Y_test.shape)"
   ]
  },
  {
   "cell_type": "code",
   "execution_count": 44,
   "id": "058bbcbd-a1b7-42cb-9fd3-c4c01805a86f",
   "metadata": {},
   "outputs": [
    {
     "name": "stdout",
     "output_type": "stream",
     "text": [
      "Intercept: \n",
      " 3.411813442396965e+17\n",
      "Coefficients: \n",
      " [ 2.66222081e+02  3.29306067e+02  4.16046794e+02  6.13936153e+15\n",
      "  6.13936153e+15 -3.48702004e+17 -3.48702004e+17  1.38129872e+15\n",
      "  1.38129872e+15  1.38129872e+15  1.38129872e+15]\n"
     ]
    }
   ],
   "source": [
    "#Create multi-linear regression model\n",
    "lin_reg = LinearRegression(normalize=True)\n",
    "lin_reg.fit(X_train, Y_train)\n",
    "\n",
    "#Intercept is when function cross y-axis, when X = 0\n",
    "print('Intercept: \\n', lin_reg.intercept_)\n",
    "print('Coefficients: \\n', lin_reg.coef_)"
   ]
  },
  {
   "cell_type": "code",
   "execution_count": 45,
   "id": "1e226dca-f8cf-4056-895b-5260ce781cad",
   "metadata": {},
   "outputs": [
    {
     "name": "stdout",
     "output_type": "stream",
     "text": [
      "R-squared Coefficient of determination: 0.759\n"
     ]
    }
   ],
   "source": [
    "#Predict Y using X_test, find r2-value\n",
    "Y_pred = lin_reg.predict(X_test)\n",
    "r2_value = r2_score(Y_test, Y_pred)\n",
    "\n",
    "# The coefficient of determination: 1 is perfect prediction\n",
    "print('R-squared Coefficient of determination: %.3f' %r2_value)\n"
   ]
  },
  {
   "cell_type": "code",
   "execution_count": 46,
   "id": "3a37a633-ecf7-4dee-bb11-5728be70a628",
   "metadata": {},
   "outputs": [
    {
     "name": "stdout",
     "output_type": "stream",
     "text": [
      "37165600.26284915\n",
      "6096.359591005861\n"
     ]
    }
   ],
   "source": [
    "#Find Mean Squared Error\n",
    "from sklearn import metrics\n",
    "print(metrics.mean_squared_error(Y_test,Y_pred))\n",
    "#Print Root Mean Squared Error\n",
    "print(np.sqrt(metrics.mean_squared_error(Y_test,Y_pred)))"
   ]
  },
  {
   "cell_type": "code",
   "execution_count": 47,
   "id": "17f2318b-ceb0-405c-a138-ad5ecc6afb6c",
   "metadata": {},
   "outputs": [
    {
     "name": "stdout",
     "output_type": "stream",
     "text": [
      "0.7570620727929197\n"
     ]
    }
   ],
   "source": [
    "#Finding out Adjusted R-squared value - measurement that counts for number of variables used for model\n",
    "adjusted_r2 = 1 -( (1-r2_value) * (len(Y) - 1) / (len(Y)-11-1) )\n",
    "print(adjusted_r2)\n"
   ]
  },
  {
   "cell_type": "code",
   "execution_count": 48,
   "id": "247d1133-c3eb-48d1-83d8-c3ec22bf0ccf",
   "metadata": {},
   "outputs": [
    {
     "name": "stdout",
     "output_type": "stream",
     "text": [
      "      expected charges  predict charges\n",
      "338        41919.09700          35904.0\n",
      "620         3659.34600           5504.0\n",
      "965         4746.34400           5440.0\n",
      "128        32734.18630          26368.0\n",
      "329         9144.56500          12672.0\n",
      "440         4738.26820           7040.0\n",
      "1215       12890.05765           5632.0\n",
      "387        30284.64294           9728.0\n",
      "1037       39725.51805          33600.0\n",
      "1015       12124.99240          11264.0\n"
     ]
    }
   ],
   "source": [
    "result = lin_reg.predict(X_test[:10])\n",
    "alldata = pd.DataFrame()\n",
    "alldata['expected charges'] = pd.Series(Y_test[:10])\n",
    "alldata['predict charges'] = result.reshape(-1)\n",
    "print(alldata)"
   ]
  },
  {
   "cell_type": "markdown",
   "id": "3c5c0077-5018-4a32-bd4b-89f1478e701b",
   "metadata": {},
   "source": [
    "## Using neural network for multi linear regression"
   ]
  },
  {
   "cell_type": "code",
   "execution_count": 29,
   "id": "46f339e1-d8b8-4279-ab0a-6fc1705d083f",
   "metadata": {},
   "outputs": [
    {
     "name": "stdout",
     "output_type": "stream",
     "text": [
      "(1338, 11)\n",
      "(1338,)\n"
     ]
    }
   ],
   "source": [
    "data = pd.read_csv('insurance.csv',header=0, skipinitialspace=True)\n",
    "\n",
    "#One-hot encoding the categorical variables to binary data using get_dummies()\n",
    "df = pd.get_dummies(data, columns = ['sex','smoker','region'])\n",
    "#print(df)\n",
    "\n",
    "#select input data and target data\n",
    "X = df[['age', 'bmi', 'children', 'sex_female', 'sex_male', 'smoker_no', 'smoker_yes', 'region_northeast', 'region_northwest', 'region_southeast', 'region_southwest']]\n",
    "Y = df['charges']\n",
    "\n",
    "print(X.shape)\n",
    "print(Y.shape)\n",
    "\n",
    "#Perfrom feature scaling\n",
    "#scaler = preprocessing.StandardScaler()\n",
    "#X = scaler.fit_transform(X)"
   ]
  },
  {
   "cell_type": "code",
   "execution_count": 30,
   "id": "a86e91ab-f10e-4768-8393-81f4d5caf44d",
   "metadata": {},
   "outputs": [
    {
     "name": "stdout",
     "output_type": "stream",
     "text": [
      "(1070, 11)\n",
      "(268, 11)\n",
      "(1070,)\n",
      "(268,)\n"
     ]
    }
   ],
   "source": [
    "#split data into train and test sets\n",
    "from sklearn.model_selection import train_test_split\n",
    "X_train, X_test, Y_train, Y_test = train_test_split(X,Y, test_size=0.2, random_state=10)\n",
    "print(X_train.shape)\n",
    "print(X_test.shape)\n",
    "print(Y_train.shape)\n",
    "print(Y_test.shape)"
   ]
  },
  {
   "cell_type": "code",
   "execution_count": 31,
   "id": "39b3c0aa-0f6d-40eb-b689-981bf5f0c594",
   "metadata": {},
   "outputs": [],
   "source": [
    "# use minMax scaler\n",
    "from sklearn.preprocessing import MinMaxScaler\n",
    "min_max_scaler = MinMaxScaler()\n",
    "X_train = min_max_scaler.fit_transform(X_train)\n",
    "X_test = min_max_scaler.transform(X_test)"
   ]
  },
  {
   "cell_type": "code",
   "execution_count": 32,
   "id": "626891fb-59c0-45b3-bca1-c02b79078d2e",
   "metadata": {},
   "outputs": [
    {
     "name": "stdout",
     "output_type": "stream",
     "text": [
      "Model: \"sequential_6\"\n",
      "_________________________________________________________________\n",
      "Layer (type)                 Output Shape              Param #   \n",
      "=================================================================\n",
      "dense_19 (Dense)             (None, 1000)              12000     \n",
      "_________________________________________________________________\n",
      "dense_20 (Dense)             (None, 500)               500500    \n",
      "_________________________________________________________________\n",
      "dense_21 (Dense)             (None, 250)               125250    \n",
      "_________________________________________________________________\n",
      "dense_22 (Dense)             (None, 1)                 251       \n",
      "=================================================================\n",
      "Total params: 638,001\n",
      "Trainable params: 638,001\n",
      "Non-trainable params: 0\n",
      "_________________________________________________________________\n"
     ]
    }
   ],
   "source": [
    "# build the model!\n",
    "model = tf.keras.models.Sequential()\n",
    "model.add(tf.keras.layers.Dense(1000, input_shape=(X_train.shape[1],), activation='relu')) # (features,)\n",
    "model.add(tf.keras.layers.Dense(500, activation='relu'))\n",
    "model.add(tf.keras.layers.Dense(250, activation='relu'))\n",
    "model.add(tf.keras.layers.Dense(1, activation='linear')) # output node\n",
    "model.summary() \n",
    "\n",
    "# compile the model\n",
    "model.compile(optimizer='adam', loss='mse', metrics=['mae'])\n",
    "\n",
    "# early stopping callback\n",
    "es = tf.keras.callbacks.EarlyStopping(monitor='val_loss',\n",
    "                   mode='min',\n",
    "                   patience=50,\n",
    "                   restore_best_weights = True)\n",
    "\n",
    "# fit the model!\n",
    "# to look at the learning curves\n",
    "history = model.fit(X_train, Y_train,\n",
    "                    validation_data = (X_test, Y_test),\n",
    "                    callbacks=[es],\n",
    "                    epochs=5000,\n",
    "                    batch_size=50,\n",
    "                    verbose=0)"
   ]
  },
  {
   "cell_type": "code",
   "execution_count": 33,
   "id": "6b4ccf84-76bd-4fe0-bfcb-71067c3dafda",
   "metadata": {},
   "outputs": [
    {
     "data": {
      "image/png": "[encoded data removed]",
      "text/plain": [
       "<Figure size 640x480 with 1 Axes>"
      ]
     },
     "metadata": {},
     "output_type": "display_data"
    }
   ],
   "source": [
    "# let's see the training and validation accuracy by epoch\n",
    "history_dict = history.history\n",
    "loss_values = history_dict['loss'] # you can change this\n",
    "val_loss_values = history_dict['val_loss'] # you can also change this\n",
    "epochs = range(1, len(loss_values) + 1) # range of X (no. of epochs)\n",
    "plt.plot(epochs, loss_values, 'bo', label='Training loss')\n",
    "plt.plot(epochs, val_loss_values, 'orange', label='Validation loss')\n",
    "plt.title('Training and validation loss')\n",
    "plt.xlabel('Epochs')\n",
    "plt.ylabel('Loss')\n",
    "plt.legend()\n",
    "plt.show()"
   ]
  },
  {
   "cell_type": "code",
   "execution_count": 35,
   "id": "f7893fe6-e4fb-4a4a-b684-1a00c7e09de1",
   "metadata": {},
   "outputs": [
    {
     "data": {
      "image/png": "[encoded data removed]",
      "text/plain": [
       "<Figure size 640x480 with 2 Axes>"
      ]
     },
     "metadata": {},
     "output_type": "display_data"
    }
   ],
   "source": [
    "\n",
    "# scatterplot of actual vs. pred\n",
    "# specify the dimensions \n",
    "fig, axes = plt.subplots(1,2) # 1 row, 2 columns\n",
    "\n",
    "# Training Results\n",
    "axes[0].scatter(x=Y_train, y=model.predict(X_train)) #first row, first entry (left top)\n",
    "axes[0].set_xlabel(\"Actual\", fontsize=10)\n",
    "axes[0].set_ylabel(\"Predicted\",  fontsize=10)\n",
    "axes[0].set_title(\"Training\")\n",
    "# add 45 deg line\n",
    "x = np.linspace(*axes[0].get_xlim())\n",
    "axes[0].plot(x, x, color='red')\n",
    "\n",
    "# Validation Results\n",
    "axes[1].scatter(x=Y_test, y=model.predict(X_test)) # first row, second entry (right top)\n",
    "axes[1].set_xlabel(\"Actual\", fontsize=10)\n",
    "axes[1].set_ylabel(\"Predicted\",  fontsize=10)\n",
    "axes[1].set_title(\"Validation\")\n",
    "# add 45 deg line\n",
    "x = np.linspace(*axes[1].get_xlim())\n",
    "axes[1].plot(x, x, color='red')\n",
    "\n",
    "# tight layout\n",
    "fig.tight_layout()\n",
    "\n",
    "# show the plot\n",
    "plt.show()"
   ]
  },
  {
   "cell_type": "code",
   "execution_count": 36,
   "id": "f232023f-169d-4044-ba62-a5f7535ee734",
   "metadata": {},
   "outputs": [
    {
     "name": "stdout",
     "output_type": "stream",
     "text": [
      "2813.9073964692757\n",
      "3295.65827414354\n"
     ]
    }
   ],
   "source": [
    "# metrics\n",
    "pred = model.predict(X_test)\n",
    "\n",
    "trainpreds = model.predict(X_train)\n",
    "\n",
    "from sklearn.metrics import mean_absolute_error\n",
    "print(mean_absolute_error(Y_train, trainpreds)) # train\n",
    "print(mean_absolute_error(Y_test, pred)) # test"
   ]
  },
  {
   "cell_type": "code",
   "execution_count": 38,
   "id": "4e1a35ff-c86a-4827-8893-d92ada8de60a",
   "metadata": {},
   "outputs": [
    {
     "name": "stdout",
     "output_type": "stream",
     "text": [
      "R-squared Coefficient of determination: 0.790\n"
     ]
    }
   ],
   "source": [
    "#Predict Y using X_test, find r2-value\n",
    "Y_pred = model.predict(X_test)\n",
    "r2_value = r2_score(Y_test, Y_pred)\n",
    "\n",
    "# The coefficient of determination: 1 is perfect prediction\n",
    "print('R-squared Coefficient of determination: %.3f' %r2_value)"
   ]
  },
  {
   "cell_type": "code",
   "execution_count": 40,
   "id": "d8e2a2af-877b-43b3-96e9-0cda8053459e",
   "metadata": {},
   "outputs": [
    {
     "name": "stdout",
     "output_type": "stream",
     "text": [
      "0.7880179290573199\n"
     ]
    }
   ],
   "source": [
    "#Finding out Adjusted R-squared value - measurement that counts for number of variables used for model\n",
    "adjusted_r2 = 1 -( (1-r2_value) * (len(Y) - 1) / (len(Y)-11-1) )\n",
    "print(adjusted_r2)"
   ]
  },
  {
   "cell_type": "code",
   "execution_count": 39,
   "id": "bd38c3c3-a051-4deb-ab02-c7ad5b2955eb",
   "metadata": {},
   "outputs": [
    {
     "name": "stdout",
     "output_type": "stream",
     "text": [
      "      expected charges  predict charges\n",
      "7           7281.50560      9341.920898\n",
      "999         5267.81815      6495.692383\n",
      "1209       12347.17200     13997.212891\n",
      "491        24513.09126     14220.414062\n",
      "625         3736.46470      4944.833008\n",
      "228         7358.17565      9510.674805\n",
      "425         9788.86590     12291.068359\n",
      "261        17085.26760     19946.966797\n",
      "498         8211.10020      9675.833984\n",
      "896        19798.05455     20741.687500\n"
     ]
    }
   ],
   "source": [
    "example_result = model.predict(X_test[:10])\n",
    "#print(example_result.shape)\n",
    "alldata = pd.DataFrame()\n",
    "alldata['expected charges'] = pd.Series(Y_test[:10])\n",
    "alldata['predict charges'] = example_result.reshape(-1)\n",
    "print(alldata)"
   ]
  },
  {
   "cell_type": "markdown",
   "id": "f3a1f378-c938-4534-87e1-36fd58fcdf32",
   "metadata": {},
   "source": [
    "## Implementing Random Forest Regression"
   ]
  },
  {
   "cell_type": "code",
   "execution_count": 12,
   "id": "20e13086-c9f1-48a1-9b38-1a70ac7c20fe",
   "metadata": {},
   "outputs": [
    {
     "name": "stdout",
     "output_type": "stream",
     "text": [
      "(1338, 11)\n",
      "(1338,)\n"
     ]
    }
   ],
   "source": [
    "data = pd.read_csv('insurance.csv',header=0, skipinitialspace=True)\n",
    "\n",
    "#One-hot encoding the categorical variables to binary data using get_dummies()\n",
    "df = pd.get_dummies(data, columns = ['sex','smoker','region'])\n",
    "#print(df)\n",
    "\n",
    "#select input data and target data\n",
    "X = df[['age', 'bmi', 'children', 'sex_female', 'sex_male', 'smoker_no', 'smoker_yes', 'region_northeast', 'region_northwest', 'region_southeast', 'region_southwest']]\n",
    "Y = df['charges']\n",
    "\n",
    "print(X.shape)\n",
    "print(Y.shape)"
   ]
  },
  {
   "cell_type": "code",
   "execution_count": 13,
   "id": "1a079454-4285-4db0-9d96-52cb60d08721",
   "metadata": {},
   "outputs": [],
   "source": [
    "#Perfrom feature scaling\n",
    "scaler = preprocessing.StandardScaler()\n",
    "X = scaler.fit_transform(X)"
   ]
  },
  {
   "cell_type": "code",
   "execution_count": 41,
   "id": "dea685b4-0436-4e8d-bc76-8554f9777f9b",
   "metadata": {},
   "outputs": [
    {
     "name": "stdout",
     "output_type": "stream",
     "text": [
      "(1070, 11)\n",
      "(268, 11)\n",
      "(1070,)\n",
      "(268,)\n"
     ]
    }
   ],
   "source": [
    "#split data into train and test sets\n",
    "from sklearn.model_selection import train_test_split\n",
    "X_train, X_test, Y_train, Y_test = train_test_split(X,Y, test_size=0.2, random_state=2)\n",
    "print(X_train.shape)\n",
    "print(X_test.shape)\n",
    "print(Y_train.shape)\n",
    "print(Y_test.shape)"
   ]
  },
  {
   "cell_type": "code",
   "execution_count": 42,
   "id": "03daa9d1-16f9-46ee-8bd3-e040f1b22198",
   "metadata": {},
   "outputs": [
    {
     "data": {
      "text/plain": [
       "RandomForestRegressor(random_state=10)"
      ]
     },
     "execution_count": 42,
     "metadata": {},
     "output_type": "execute_result"
    }
   ],
   "source": [
    "#Getting random forest regression model and fitting into training data\n",
    "# Fitting Random Forest Regression to the dataset\n",
    "# import the regressor\n",
    "from sklearn.ensemble import RandomForestRegressor\n",
    "  \n",
    " # create regressor object\n",
    "#build 100 trees\n",
    "regressor = RandomForestRegressor(n_estimators = 100, random_state = 10)\n",
    "  \n",
    "# fit the regressor with x and y data\n",
    "regressor.fit(X_train, Y_train) "
   ]
  },
  {
   "cell_type": "code",
   "execution_count": 43,
   "id": "37a29c62-875e-4e2d-941c-49885656d1fe",
   "metadata": {},
   "outputs": [],
   "source": [
    "#Intercept is when function cross y-axis, when X = 0\n",
    "#print('Intercept: \\n', regressor.intercept_)\n",
    "#print('Coefficients: \\n', regressor.coef_)"
   ]
  },
  {
   "cell_type": "code",
   "execution_count": 44,
   "id": "5fce0599-1075-48ca-a1fa-7d4082906af4",
   "metadata": {},
   "outputs": [
    {
     "name": "stdout",
     "output_type": "stream",
     "text": [
      "R-squared Coefficient of determination: 0.838\n"
     ]
    }
   ],
   "source": [
    "#Predict Y using X_test, find r2-value\n",
    "Y_pred = regressor.predict(X_test)\n",
    "r2_value = r2_score(Y_test, Y_pred)\n",
    "\n",
    "# The coefficient of determination: 1 is perfect prediction\n",
    "print('R-squared Coefficient of determination: %.3f' %r2_value)"
   ]
  },
  {
   "cell_type": "code",
   "execution_count": 45,
   "id": "b93103e5-dda8-44e5-b304-d8ba66e5ef48",
   "metadata": {},
   "outputs": [
    {
     "name": "stdout",
     "output_type": "stream",
     "text": [
      "24331669.34990873\n",
      "4932.714197063187\n"
     ]
    }
   ],
   "source": [
    "#Find Mean Squared Error\n",
    "from sklearn import metrics\n",
    "print(metrics.mean_squared_error(Y_test,Y_pred))\n",
    "#Print Root Mean Squared Error\n",
    "print(np.sqrt(metrics.mean_squared_error(Y_test,Y_pred)))"
   ]
  },
  {
   "cell_type": "code",
   "execution_count": 46,
   "id": "b7c0818a-0229-42f8-b1d9-19fd61eb6c75",
   "metadata": {},
   "outputs": [
    {
     "name": "stdout",
     "output_type": "stream",
     "text": [
      "0.8366400896709087\n"
     ]
    }
   ],
   "source": [
    "#Finding out Adjusted R-squared value - measurement that counts for number of variables used for model\n",
    "adjusted_r2 = 1 -( (1-r2_value) * (len(Y) - 1) / (len(Y)-11-1) )\n",
    "print(adjusted_r2)"
   ]
  },
  {
   "cell_type": "code",
   "execution_count": 47,
   "id": "764187cc-0bc3-4e75-8465-11492bbd34d5",
   "metadata": {},
   "outputs": [
    {
     "name": "stdout",
     "output_type": "stream",
     "text": [
      "      expected charges  predict charges\n",
      "17          2395.17155      3811.958777\n",
      "1091       11286.53870     11753.716874\n",
      "273         9617.66245     15800.075414\n",
      "270         1719.43630      2222.651390\n",
      "874         8891.13950     10375.051906\n",
      "790         5662.22500      8340.591420\n",
      "957        12609.88702      3317.595701\n",
      "492         2196.47320      2962.970633\n",
      "1125       14254.60820     19355.890703\n",
      "794         7209.49180      7541.728130\n"
     ]
    }
   ],
   "source": [
    "rf_result = regressor.predict(X_test[:10])\n",
    "alldata = pd.DataFrame()\n",
    "alldata['expected charges'] = pd.Series(Y_test[:10])\n",
    "alldata['predict charges'] = rf_result.reshape(-1)\n",
    "print(alldata)"
   ]
  },
  {
   "cell_type": "code",
   "execution_count": null,
   "id": "d5ff8423-c6c4-4b26-87a6-6de271177ed4",
   "metadata": {},
   "outputs": [],
   "source": []
  }
 ],
 "metadata": {
  "kernelspec": {
   "display_name": "Python 3 (ipykernel)",
   "language": "python",
   "name": "python3"
  },
  "language_info": {
   "codemirror_mode": {
    "name": "ipython",
    "version": 3
   },
   "file_extension": ".py",
   "mimetype": "text/x-python",
   "name": "python",
   "nbconvert_exporter": "python",
   "pygments_lexer": "ipython3",
   "version": "3.7.0"
  }
 },
 "nbformat": 4,
 "nbformat_minor": 5
}
